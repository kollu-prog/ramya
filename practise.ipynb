{
 "cells": [
  {
   "cell_type": "cod",
   "execution_count": 1,
   "metadata": {},
   "outputs": [],
   "source": [
    "# Importing necessary libraries\n",
    "import numpy as np\n",
    "import pandas as pd\n",
    "import matplotlib.pyplot as plt\n",
    "import seaborn as sns\n",
    "import os\n"
   ]
  },
  {
   "cell_type": "markdown",
   "metadata": {},
   "source": [
    "## Exercise-1\n",
    "# Read in the data set `pollutants1.csv` and display the first five rows. "
   ]
  },
  {
   "cell_type": "code",
   "execution_count": 2,
   "metadata": {},
   "outputs": [
    {
     "name": "stdout",
     "output_type": "stream",
     "text": [
      "   site_id        date    pm10   pm2.5\n",
      "0  at0ill1  2023-01-01  18.279   16.07\n",
      "1  at0ill1  2023-01-02  13.359   12.36\n",
      "2  at0ill1  2023-01-03  11.934  10.135\n",
      "3  at0ill1  2023-01-04   8.834   7.792\n",
      "4  at0ill1  2023-01-05   5.947   5.075\n"
     ]
    }
   ],
   "source": [
    "polltants1_df = pd.read_csv('pollutants1.csv')\n",
    "print(polltants1_df.head())"
   ]
  },
  {
   "cell_type": "code",
   "execution_count": 3,
   "metadata": {},
   "outputs": [
    {
     "name": "stdout",
     "output_type": "stream",
     "text": [
      "Number of rows are: 24062, and columns are: 4\n"
     ]
    }
   ],
   "source": [
    "# Print the number of rows and columns\n",
    "print(f'Number of rows are: {polltants1_df.shape[0]}, and columns are: {polltants1_df.shape[1]}')"
   ]
  },
  {
   "cell_type": "markdown",
   "metadata": {},
   "source": [
    "Pollutants are measured at specific sites which can be identified via their `site_id`. How many different sites are contained in the data?"
   ]
  },
  {
   "cell_type": "code",
   "execution_count": 4,
   "metadata": {},
   "outputs": [
    {
     "name": "stdout",
     "output_type": "stream",
     "text": [
      "Number of different sites are: 67\n"
     ]
    }
   ],
   "source": [
    "print(f'Number of different sites are: {polltants1_df.site_id.nunique()}')"
   ]
  },
  {
   "cell_type": "markdown",
   "metadata": {},
   "source": [
    "## Exercise 2\n",
    "# Read in the data set `pollutants2.csv` and display the first five values."
   ]
  },
  {
   "cell_type": "code",
   "execution_count": 5,
   "metadata": {},
   "outputs": [
    {
     "name": "stdout",
     "output_type": "stream",
     "text": [
      "   site_id        date pollutant   value\n",
      "0  at0ill1  2023-01-01       no2   6.234\n",
      "1  at0ill1  2023-01-02       no2   9.243\n",
      "2  at0ill1  2023-01-03       no2  17.199\n",
      "3  at0ill1  2023-01-04       no2   6.280\n",
      "4  at0ill1  2023-01-05       no2   4.881\n"
     ]
    }
   ],
   "source": [
    "# read the pollutants2.csv file\n",
    "pollutants2_df = pd.read_csv('pollutants2.csv')\n",
    "\n",
    "#print the first five rows\n",
    "print(pollutants2_df.head())\n"
   ]
  },
  {
   "cell_type": "markdown",
   "metadata": {},
   "source": [
    "Combine both data sets (pollutants1, pollutants2) _suitably_ into one data set. In the combined data, a single row should contain the measurements of all pollutants (`pm10`, `pm2.5`, `no2`, `so2`, `o3`) at one site on one day. Display the first five rows of the combined data and print its row number?"
   ]
  },
  {
   "cell_type": "code",
   "execution_count": 6,
   "metadata": {},
   "outputs": [
    {
     "name": "stdout",
     "output_type": "stream",
     "text": [
      "   site_id        date     no2      o3    so2\n",
      "0  at0ill1  2023-01-01   6.234  28.100  0.380\n",
      "1  at0ill1  2023-01-02   9.243  24.121  0.339\n",
      "2  at0ill1  2023-01-03  17.199  16.999  0.404\n",
      "3  at0ill1  2023-01-04   6.280  50.592  0.408\n",
      "4  at0ill1  2023-01-05   4.881  69.127  0.383\n"
     ]
    }
   ],
   "source": [
    "# How to Convert pollutants2_df to Match pollutants1_df\n",
    "# Pivot long format to wide format\n",
    "pollutants2_df_pivot = pollutants2_df.pivot_table(\n",
    "    index=['site_id', 'date'],\n",
    "    columns='pollutant',\n",
    "    values='value'\n",
    ").reset_index()\n",
    "\n",
    "# Renaming columns for better readability\n",
    "pollutants2_df_pivot.columns = ['site_id', 'date', 'no2', 'o3', 'so2']\n",
    "\n",
    "print(pollutants2_df_pivot.head())"
   ]
  },
  {
   "cell_type": "code",
   "execution_count": 7,
   "metadata": {},
   "outputs": [
    {
     "name": "stdout",
     "output_type": "stream",
     "text": [
      "   site_id        date    pm10   pm2.5     no2      o3    so2\n",
      "0  at0ill1  2023-01-01  18.279   16.07   6.234  28.100  0.380\n",
      "1  at0ill1  2023-01-02  13.359   12.36   9.243  24.121  0.339\n",
      "2  at0ill1  2023-01-03  11.934  10.135  17.199  16.999  0.404\n",
      "3  at0ill1  2023-01-04   8.834   7.792   6.280  50.592  0.408\n",
      "4  at0ill1  2023-01-05   5.947   5.075   4.881  69.127  0.383\n"
     ]
    }
   ],
   "source": [
    "# Merge them\n",
    "pollutants_df = pd.merge(polltants1_df, pollutants2_df_pivot, on=['site_id', 'date'], how='outer')\n",
    "print(pollutants_df.head())"
   ]
  },
  {
   "cell_type": "markdown",
   "metadata": {},
   "source": [
    "## Exercise 3\n",
    "# Read in the data set `sites.csv` and merge it suitably with the combined data set from exercise 2. Display the first five rows of the merged data set."
   ]
  },
  {
   "cell_type": "code",
   "execution_count": 8,
   "metadata": {},
   "outputs": [
    {
     "name": "stdout",
     "output_type": "stream",
     "text": [
      "   site_id                            site  country   site_type  \\\n",
      "0  at0ill1       Illmitz am Neusiedler See  austria  background   \n",
      "1  at31401               Mödling Bachgasse  austria  background   \n",
      "2  at32701  Schwechat Sportplatz,Mühlgasse  austria  background   \n",
      "3  at4s406               Wels Linzerstraße  austria  background   \n",
      "4  at4s416                  Linz Neue Welt  austria  background   \n",
      "\n",
      "        site_area  elevation  \n",
      "0  rural_regional        117  \n",
      "1        suburban        215  \n",
      "2        suburban        155  \n",
      "3        suburban        316  \n",
      "4        suburban        265  \n"
     ]
    },
    {
     "data": {
      "application/vnd.microsoft.datawrangler.viewer.v0+json": {
       "columns": [
        {
         "name": "index",
         "rawType": "int64",
         "type": "integer"
        },
        {
         "name": "site_id",
         "rawType": "object",
         "type": "string"
        },
        {
         "name": "date",
         "rawType": "object",
         "type": "string"
        },
        {
         "name": "pm10",
         "rawType": "float64",
         "type": "float"
        },
        {
         "name": "pm2.5",
         "rawType": "object",
         "type": "string"
        },
        {
         "name": "no2",
         "rawType": "float64",
         "type": "float"
        },
        {
         "name": "o3",
         "rawType": "float64",
         "type": "float"
        },
        {
         "name": "so2",
         "rawType": "float64",
         "type": "float"
        },
        {
         "name": "site",
         "rawType": "object",
         "type": "string"
        },
        {
         "name": "country",
         "rawType": "object",
         "type": "string"
        },
        {
         "name": "site_type",
         "rawType": "object",
         "type": "string"
        },
        {
         "name": "site_area",
         "rawType": "object",
         "type": "string"
        },
        {
         "name": "elevation",
         "rawType": "float64",
         "type": "float"
        }
       ],
       "conversionMethod": "pd.DataFrame",
       "ref": "fad2c9e1-0929-4c53-87fa-12048278d7a5",
       "rows": [
        [
         "0",
         "at0ill1",
         "2023-01-01",
         "18.279",
         "16.07",
         "6.234",
         "28.1",
         "0.38",
         "Illmitz am Neusiedler See",
         "austria",
         "background",
         "rural_regional",
         "117.0"
        ],
        [
         "1",
         "at0ill1",
         "2023-01-02",
         "13.359",
         "12.36",
         "9.243",
         "24.121",
         "0.339",
         "Illmitz am Neusiedler See",
         "austria",
         "background",
         "rural_regional",
         "117.0"
        ],
        [
         "2",
         "at0ill1",
         "2023-01-03",
         "11.934",
         "10.135",
         "17.199",
         "16.999",
         "0.404",
         "Illmitz am Neusiedler See",
         "austria",
         "background",
         "rural_regional",
         "117.0"
        ],
        [
         "3",
         "at0ill1",
         "2023-01-04",
         "8.834",
         "7.792",
         "6.28",
         "50.592",
         "0.408",
         "Illmitz am Neusiedler See",
         "austria",
         "background",
         "rural_regional",
         "117.0"
        ],
        [
         "4",
         "at0ill1",
         "2023-01-05",
         "5.947",
         "5.075",
         "4.881",
         "69.127",
         "0.383",
         "Illmitz am Neusiedler See",
         "austria",
         "background",
         "rural_regional",
         "117.0"
        ]
       ],
       "shape": {
        "columns": 12,
        "rows": 5
       }
      },
      "text/html": [
       "<div>\n",
       "<style scoped>\n",
       "    .dataframe tbody tr th:only-of-type {\n",
       "        vertical-align: middle;\n",
       "    }\n",
       "\n",
       "    .dataframe tbody tr th {\n",
       "        vertical-align: top;\n",
       "    }\n",
       "\n",
       "    .dataframe thead th {\n",
       "        text-align: right;\n",
       "    }\n",
       "</style>\n",
       "<table border=\"1\" class=\"dataframe\">\n",
       "  <thead>\n",
       "    <tr style=\"text-align: right;\">\n",
       "      <th></th>\n",
       "      <th>site_id</th>\n",
       "      <th>date</th>\n",
       "      <th>pm10</th>\n",
       "      <th>pm2.5</th>\n",
       "      <th>no2</th>\n",
       "      <th>o3</th>\n",
       "      <th>so2</th>\n",
       "      <th>site</th>\n",
       "      <th>country</th>\n",
       "      <th>site_type</th>\n",
       "      <th>site_area</th>\n",
       "      <th>elevation</th>\n",
       "    </tr>\n",
       "  </thead>\n",
       "  <tbody>\n",
       "    <tr>\n",
       "      <th>0</th>\n",
       "      <td>at0ill1</td>\n",
       "      <td>2023-01-01</td>\n",
       "      <td>18.279</td>\n",
       "      <td>16.07</td>\n",
       "      <td>6.234</td>\n",
       "      <td>28.100</td>\n",
       "      <td>0.380</td>\n",
       "      <td>Illmitz am Neusiedler See</td>\n",
       "      <td>austria</td>\n",
       "      <td>background</td>\n",
       "      <td>rural_regional</td>\n",
       "      <td>117.0</td>\n",
       "    </tr>\n",
       "    <tr>\n",
       "      <th>1</th>\n",
       "      <td>at0ill1</td>\n",
       "      <td>2023-01-02</td>\n",
       "      <td>13.359</td>\n",
       "      <td>12.36</td>\n",
       "      <td>9.243</td>\n",
       "      <td>24.121</td>\n",
       "      <td>0.339</td>\n",
       "      <td>Illmitz am Neusiedler See</td>\n",
       "      <td>austria</td>\n",
       "      <td>background</td>\n",
       "      <td>rural_regional</td>\n",
       "      <td>117.0</td>\n",
       "    </tr>\n",
       "    <tr>\n",
       "      <th>2</th>\n",
       "      <td>at0ill1</td>\n",
       "      <td>2023-01-03</td>\n",
       "      <td>11.934</td>\n",
       "      <td>10.135</td>\n",
       "      <td>17.199</td>\n",
       "      <td>16.999</td>\n",
       "      <td>0.404</td>\n",
       "      <td>Illmitz am Neusiedler See</td>\n",
       "      <td>austria</td>\n",
       "      <td>background</td>\n",
       "      <td>rural_regional</td>\n",
       "      <td>117.0</td>\n",
       "    </tr>\n",
       "    <tr>\n",
       "      <th>3</th>\n",
       "      <td>at0ill1</td>\n",
       "      <td>2023-01-04</td>\n",
       "      <td>8.834</td>\n",
       "      <td>7.792</td>\n",
       "      <td>6.280</td>\n",
       "      <td>50.592</td>\n",
       "      <td>0.408</td>\n",
       "      <td>Illmitz am Neusiedler See</td>\n",
       "      <td>austria</td>\n",
       "      <td>background</td>\n",
       "      <td>rural_regional</td>\n",
       "      <td>117.0</td>\n",
       "    </tr>\n",
       "    <tr>\n",
       "      <th>4</th>\n",
       "      <td>at0ill1</td>\n",
       "      <td>2023-01-05</td>\n",
       "      <td>5.947</td>\n",
       "      <td>5.075</td>\n",
       "      <td>4.881</td>\n",
       "      <td>69.127</td>\n",
       "      <td>0.383</td>\n",
       "      <td>Illmitz am Neusiedler See</td>\n",
       "      <td>austria</td>\n",
       "      <td>background</td>\n",
       "      <td>rural_regional</td>\n",
       "      <td>117.0</td>\n",
       "    </tr>\n",
       "  </tbody>\n",
       "</table>\n",
       "</div>"
      ],
      "text/plain": [
       "   site_id        date    pm10   pm2.5     no2      o3    so2  \\\n",
       "0  at0ill1  2023-01-01  18.279   16.07   6.234  28.100  0.380   \n",
       "1  at0ill1  2023-01-02  13.359   12.36   9.243  24.121  0.339   \n",
       "2  at0ill1  2023-01-03  11.934  10.135  17.199  16.999  0.404   \n",
       "3  at0ill1  2023-01-04   8.834   7.792   6.280  50.592  0.408   \n",
       "4  at0ill1  2023-01-05   5.947   5.075   4.881  69.127  0.383   \n",
       "\n",
       "                        site  country   site_type       site_area  elevation  \n",
       "0  Illmitz am Neusiedler See  austria  background  rural_regional      117.0  \n",
       "1  Illmitz am Neusiedler See  austria  background  rural_regional      117.0  \n",
       "2  Illmitz am Neusiedler See  austria  background  rural_regional      117.0  \n",
       "3  Illmitz am Neusiedler See  austria  background  rural_regional      117.0  \n",
       "4  Illmitz am Neusiedler See  austria  background  rural_regional      117.0  "
      ]
     },
     "execution_count": 8,
     "metadata": {},
     "output_type": "execute_result"
    }
   ],
   "source": [
    "sites_df = pd.read_csv('sites.csv')\n",
    "print(sites_df.head())\n",
    "# Merge pollutants_df with sites_df\n",
    "pollutants_df = pd.merge(pollutants_df, sites_df, on='site_id', how='left')\n",
    "pollutants_df.head()"
   ]
  },
  {
   "cell_type": "code",
   "execution_count": 9,
   "metadata": {},
   "outputs": [
    {
     "data": {
      "text/plain": [
       "19795    nl00644\n",
       "21612    pl0209a\n",
       "Name: site_id, dtype: object"
      ]
     },
     "execution_count": 9,
     "metadata": {},
     "output_type": "execute_result"
    }
   ],
   "source": [
    "#Does the sites data set contain meta data on all sites that are contained in the combined data set from exercise 2? If not, which sites are missing?\n",
    "# # Now you can filter rows where site metadata is missing but pollutant data (no2) is available\n",
    "only_pollutant = pollutants_df[pollutants_df['site'].isna() & pollutants_df['no2'].notna()]\n",
    "\n",
    "# Remove duplicate site_id values (if multiple entries exist for the same site)\n",
    "only_pollutant = only_pollutant.drop_duplicates(subset=['site_id'])\n",
    "\n",
    "# Extract the site_id values\n",
    "result = only_pollutant['site_id']\n",
    "result\n"
   ]
  },
  {
   "cell_type": "markdown",
   "metadata": {},
   "source": [
    "## Exercise 4\n",
    "# Of all German sites with `site_type` \"traffic\" or \"background\", display the 5 observations with the highest `pm10` values. Display only the relevant columns (site, site_type, date, and pm10)."
   ]
  },
  {
   "cell_type": "code",
   "execution_count": 10,
   "metadata": {},
   "outputs": [
    {
     "name": "stdout",
     "output_type": "stream",
     "text": [
      "Empty DataFrame\n",
      "Columns: [site_id, date, pm10, pm2.5, no2, o3, so2, site, country, site_type, site_area, elevation]\n",
      "Index: []\n"
     ]
    }
   ],
   "source": [
    "# Filter the dataset for German sites with 'traffic' or 'background' site types\n",
    "germany = pollutants_df[pollutants_df['country'] == 'Germany']  # Adjusted to match case-sensitive value in 'country'\n",
    "germany_site = germany[(germany['site_type'] == 'traffic') | (germany['site_type'] == 'background')].nlargest(5, 'pm10')\n",
    "\n",
    "# Display the result\n",
    "print(germany_site)\n"
   ]
  },
  {
   "cell_type": "code",
   "execution_count": 11,
   "metadata": {},
   "outputs": [
    {
     "name": "stdout",
     "output_type": "stream",
     "text": [
      "Percentage of rows exceeding 15 µg/m³ for pm10: 56.30%\n"
     ]
    }
   ],
   "source": [
    "#The World Health Organization recommends a maximum yearly average `pm10` value of 15 µg/m³. What is the percentage of sites that exceeds this value?\n",
    "# Step 1: Count rows where pm10 > 15 µg/m³\n",
    "exceeds_count = pollutants_df[pollutants_df['pm10'] > 15].shape[0]\n",
    "\n",
    "# Step 2: Count total rows with non-missing pm10 values\n",
    "total_rows = pollutants_df[pollutants_df['pm10'].notna()].shape[0]\n",
    "\n",
    "# Step 3: Calculate the percentage\n",
    "percentage = (exceeds_count / total_rows) * 100\n",
    "\n",
    "# Step 4: Display the result\n",
    "print(f\"Percentage of rows exceeding 15 µg/m³ for pm10: {percentage:.2f}%\")\n"
   ]
  },
  {
   "cell_type": "markdown",
   "metadata": {},
   "source": [
    "# Exercise 5 (20 points)\n",
    "Visualize the following patterns related to ozone (`o3`) in the data:\n",
    "\n",
    "- Calculate the average ozone values per site and use a scatter plot to show how ozone is related to the `elevation` of the site\n",
    "- Use a line plot to show how ozone immissions at the site \"Schauinsland\" have developed over time\n",
    "\n",
    "Arrange both plots as subplots of a single figure. Create a title for the entire figure and titles for each subplot."
   ]
  },
  {
   "cell_type": "code",
   "execution_count": 14,
   "metadata": {},
   "outputs": [
    {
     "data": {
      "image/png": "[encoded data removed]",
      "text/plain": [
       "<Figure size 1400x600 with 2 Axes>"
      ]
     },
     "metadata": {},
     "output_type": "display_data"
    }
   ],
   "source": [
    "import pandas as pd\n",
    "import matplotlib.pyplot as plt\n",
    "import seaborn as sns\n",
    "\n",
    "# Load data\n",
    "pollutants1_df = pd.read_csv('pollutants1.csv')\n",
    "pollutants2_df = pd.read_csv('pollutants2.csv')\n",
    "sites_df = pd.read_csv('sites.csv')\n",
    "\n",
    "# Pivot pollutants2_df to wide format\n",
    "pollutants2_df_pivot = pollutants2_df.pivot_table(\n",
    "    index=['site_id', 'date'],\n",
    "    columns='pollutant',\n",
    "    values='value'\n",
    ").reset_index()\n",
    "\n",
    "# Merge datasets\n",
    "df_outermerged = pd.merge(pollutants2_df_pivot, pollutants1_df, on=['site_id', 'date'], how='outer')\n",
    "pollutants_df = pd.merge(df_outermerged, sites_df, on='site_id', how='left')\n",
    "\n",
    "# Proceed only if 'o3' column exists\n",
    "if 'o3' in pollutants_df.columns:\n",
    "    # Convert 'date' to datetime\n",
    "    pollutants_df['date'] = pd.to_datetime(pollutants_df['date'])\n",
    "\n",
    "    # 1. Average ozone per site\n",
    "    avg_o3_per_site = pollutants_df.groupby('site_id')['o3'].mean().reset_index()\n",
    "    avg_o3_per_site = avg_o3_per_site.merge(sites_df[['site_id', 'elevation']], on='site_id')\n",
    "\n",
    "    # 2. Ozone trend at \"Schauinsland\"\n",
    "    schauinsland = pollutants_df[pollutants_df['site'] == 'Schauinsland'].copy()\n",
    "    schauinsland = schauinsland.sort_values('date')\n",
    "\n",
    "    # Plotting\n",
    "    fig, axes = plt.subplots(1, 2, figsize=(14, 6))\n",
    "\n",
    "    # Subplot 1: Average Ozone vs Elevation\n",
    "    sns.scatterplot(data=avg_o3_per_site, x='elevation', y='o3', ax=axes[0])\n",
    "    axes[0].set_title('Average Ozone vs. Elevation')\n",
    "    axes[0].set_xlabel('Elevation (m)')\n",
    "    axes[0].set_ylabel('Average Ozone (µg/m³)')\n",
    "\n",
    "    # Subplot 2: Ozone trend at Schauinsland\n",
    "    sns.lineplot(data=schauinsland, x='date', y='o3', ax=axes[1])\n",
    "    axes[1].set_title('Ozone Levels Over Time at Schauinsland')\n",
    "    axes[1].set_xlabel('Date')\n",
    "    axes[1].set_ylabel('Ozone (µg/m³)')\n",
    "\n",
    "    # Main title and layout\n",
    "    fig.suptitle('Ozone Immission Patterns Across Sites', fontsize=16)\n",
    "    plt.tight_layout(rect=[0, 0, 1, 0.95])\n",
    "    plt.show()\n",
    "\n",
    "else:\n",
    "    print(\"⚠️ Column 'o3' not found in the data. Please ensure ozone data is available.\")\n"
   ]
  },
  {
   "cell_type": "markdown",
   "metadata": {},
   "source": [
    "# Exercise 6 (15 points)\n",
    "Display for all sites in Hamburg the average value of `pm10`, `pm2.5` and `no2`. Hint: consider all sites that contain \"Hamburg\" in the site name."
   ]
  },
  {
   "cell_type": "code",
   "execution_count": 16,
   "metadata": {},
   "outputs": [
    {
     "name": "stdout",
     "output_type": "stream",
     "text": [
      "   site_id       date     no2      o3    so2    pm10   pm2.5  \\\n",
      "0  at0ill1 2023-01-01   6.234  28.100  0.380  18.279   16.07   \n",
      "1  at0ill1 2023-01-02   9.243  24.121  0.339  13.359   12.36   \n",
      "2  at0ill1 2023-01-03  17.199  16.999  0.404  11.934  10.135   \n",
      "3  at0ill1 2023-01-04   6.280  50.592  0.408   8.834   7.792   \n",
      "4  at0ill1 2023-01-05   4.881  69.127  0.383   5.947   5.075   \n",
      "\n",
      "                        site  country   site_type       site_area  elevation  \n",
      "0  Illmitz am Neusiedler See  austria  background  rural_regional      117.0  \n",
      "1  Illmitz am Neusiedler See  austria  background  rural_regional      117.0  \n",
      "2  Illmitz am Neusiedler See  austria  background  rural_regional      117.0  \n",
      "3  Illmitz am Neusiedler See  austria  background  rural_regional      117.0  \n",
      "4  Illmitz am Neusiedler See  austria  background  rural_regional      117.0  \n"
     ]
    },
    {
     "data": {
      "application/vnd.microsoft.datawrangler.viewer.v0+json": {
       "columns": [
        {
         "name": "index",
         "rawType": "int64",
         "type": "integer"
        },
        {
         "name": "site_id",
         "rawType": "object",
         "type": "string"
        },
        {
         "name": "date",
         "rawType": "datetime64[ns]",
         "type": "datetime"
        },
        {
         "name": "no2",
         "rawType": "float64",
         "type": "float"
        },
        {
         "name": "o3",
         "rawType": "float64",
         "type": "float"
        },
        {
         "name": "so2",
         "rawType": "float64",
         "type": "float"
        },
        {
         "name": "pm10",
         "rawType": "float64",
         "type": "float"
        },
        {
         "name": "pm2.5",
         "rawType": "object",
         "type": "unknown"
        },
        {
         "name": "site",
         "rawType": "object",
         "type": "string"
        },
        {
         "name": "country",
         "rawType": "object",
         "type": "string"
        },
        {
         "name": "site_type",
         "rawType": "object",
         "type": "string"
        },
        {
         "name": "site_area",
         "rawType": "object",
         "type": "string"
        },
        {
         "name": "elevation",
         "rawType": "float64",
         "type": "float"
        }
       ],
       "conversionMethod": "pd.DataFrame",
       "ref": "cd02f5f5-3ecc-4945-9f0e-36747d4ec2ab",
       "rows": [
        [
         "5822",
         "dehh008",
         "2023-01-01 00:00:00",
         "11.968",
         "69.289",
         "2.5",
         "17.445",
         "10.374",
         "Hamburg Sternschanze",
         "germany",
         "background",
         "urban",
         "15.0"
        ],
        [
         "5823",
         "dehh008",
         "2023-01-02 00:00:00",
         "14.306",
         "54.668",
         "3.062",
         "9.876",
         "5.144",
         "Hamburg Sternschanze",
         "germany",
         "background",
         "urban",
         "15.0"
        ],
        [
         "5824",
         "dehh008",
         "2023-01-03 00:00:00",
         "25.683",
         "53.505",
         "2.724",
         "14.231",
         "5.78",
         "Hamburg Sternschanze",
         "germany",
         "background",
         "urban",
         "15.0"
        ],
        [
         "5825",
         "dehh008",
         "2023-01-04 00:00:00",
         "14.277",
         "64.338",
         "2.631",
         "6.447",
         "2.436",
         "Hamburg Sternschanze",
         "germany",
         "background",
         "urban",
         "15.0"
        ],
        [
         "5826",
         "dehh008",
         "2023-01-05 00:00:00",
         "19.389",
         "67.546",
         "2.906",
         "9.848",
         "3.323",
         "Hamburg Sternschanze",
         "germany",
         "background",
         "urban",
         "15.0"
        ],
        [
         "5827",
         "dehh008",
         "2023-01-06 00:00:00",
         "23.244",
         "63.081",
         "2.722",
         "13.573",
         "8.208",
         "Hamburg Sternschanze",
         "germany",
         "background",
         "urban",
         "15.0"
        ],
        [
         "5828",
         "dehh008",
         "2023-01-07 00:00:00",
         "23.752",
         "50.88",
         "2.729",
         "8.596",
         "5.382",
         "Hamburg Sternschanze",
         "germany",
         "background",
         "urban",
         "15.0"
        ],
        [
         "5829",
         "dehh008",
         "2023-01-08 00:00:00",
         "25.379",
         "50.765",
         "3.043",
         "6.104",
         "3.22",
         "Hamburg Sternschanze",
         "germany",
         "background",
         "urban",
         "15.0"
        ],
        [
         "5830",
         "dehh008",
         "2023-01-09 00:00:00",
         "27.817",
         "50.904",
         "3.79",
         "12.285",
         "7.391",
         "Hamburg Sternschanze",
         "germany",
         "background",
         "urban",
         "15.0"
        ],
        [
         "5831",
         "dehh008",
         "2023-01-10 00:00:00",
         "21.759",
         "48.974",
         "2.607",
         "12.332",
         "4.663",
         "Hamburg Sternschanze",
         "germany",
         "background",
         "urban",
         "15.0"
        ],
        [
         "5832",
         "dehh008",
         "2023-01-11 00:00:00",
         "22.304",
         "54.267",
         "2.998",
         "9.075",
         "4.8",
         "Hamburg Sternschanze",
         "germany",
         "background",
         "urban",
         "15.0"
        ],
        [
         "5833",
         "dehh008",
         "2023-01-12 00:00:00",
         "17.771",
         "61.286",
         "2.5",
         "7.11",
         "4.018",
         "Hamburg Sternschanze",
         "germany",
         "background",
         "urban",
         "15.0"
        ],
        [
         "5834",
         "dehh008",
         "2023-01-13 00:00:00",
         "12.773",
         "71.678",
         "2.787",
         "10.989",
         "4.345",
         "Hamburg Sternschanze",
         "germany",
         "background",
         "urban",
         "15.0"
        ],
        [
         "5835",
         "dehh008",
         "2023-01-14 00:00:00",
         "14.472",
         "72.405",
         "2.5",
         "8.344",
         "3.2",
         "Hamburg Sternschanze",
         "germany",
         "background",
         "urban",
         "15.0"
        ],
        [
         "5836",
         "dehh008",
         "2023-01-15 00:00:00",
         "8.927",
         "75.876",
         "2.918",
         "7.484",
         "4.444",
         "Hamburg Sternschanze",
         "germany",
         "background",
         "urban",
         "15.0"
        ],
        [
         "5837",
         "dehh008",
         "2023-01-16 00:00:00",
         "18.573",
         "68.767",
         "6.498",
         "4.218",
         "1.571",
         "Hamburg Sternschanze",
         "germany",
         "background",
         "urban",
         "15.0"
        ],
        [
         "5838",
         "dehh008",
         "2023-01-17 00:00:00",
         "19.695",
         "63.605",
         "2.5",
         "9.841",
         "5.54",
         "Hamburg Sternschanze",
         "germany",
         "background",
         "urban",
         "15.0"
        ],
        [
         "5839",
         "dehh008",
         "2023-01-18 00:00:00",
         "40.141",
         "30.188",
         "4.512",
         "20.486",
         "15.694",
         "Hamburg Sternschanze",
         "germany",
         "background",
         "urban",
         "15.0"
        ],
        [
         "5840",
         "dehh008",
         "2023-01-19 00:00:00",
         "27.198",
         "36.732",
         "2.5",
         "18.086",
         "10.845",
         "Hamburg Sternschanze",
         "germany",
         "background",
         "urban",
         "15.0"
        ],
        [
         "5841",
         "dehh008",
         "2023-01-20 00:00:00",
         "23.534",
         "41.243",
         "2.5",
         "21.959",
         "14.933",
         "Hamburg Sternschanze",
         "germany",
         "background",
         "urban",
         "15.0"
        ],
        [
         "5842",
         "dehh008",
         "2023-01-21 00:00:00",
         "12.782",
         "51.633",
         "2.5",
         "13.106",
         "9.948",
         "Hamburg Sternschanze",
         "germany",
         "background",
         "urban",
         "15.0"
        ],
        [
         "5843",
         "dehh008",
         "2023-01-22 00:00:00",
         "6.276",
         "53.576",
         "2.5",
         "6.274",
         "2.621",
         "Hamburg Sternschanze",
         "germany",
         "background",
         "urban",
         "15.0"
        ],
        [
         "5844",
         "dehh008",
         "2023-01-23 00:00:00",
         "17.161",
         "50.826",
         "2.5",
         "15.401",
         "11.147",
         "Hamburg Sternschanze",
         "germany",
         "background",
         "urban",
         "15.0"
        ],
        [
         "5845",
         "dehh008",
         "2023-01-24 00:00:00",
         "16.906",
         "46.634",
         "3.266",
         "15.443",
         "10.625",
         "Hamburg Sternschanze",
         "germany",
         "background",
         "urban",
         "15.0"
        ],
        [
         "5846",
         "dehh008",
         "2023-01-25 00:00:00",
         "20.952",
         "35.786",
         "2.837",
         "24.78",
         "18.889",
         "Hamburg Sternschanze",
         "germany",
         "background",
         "urban",
         "15.0"
        ],
        [
         "5847",
         "dehh008",
         "2023-01-26 00:00:00",
         "21.163",
         "45.728",
         "2.637",
         "13.323",
         "8.798",
         "Hamburg Sternschanze",
         "germany",
         "background",
         "urban",
         "15.0"
        ],
        [
         "5848",
         "dehh008",
         "2023-01-27 00:00:00",
         "9.278",
         "65.809",
         "2.5",
         "2.71",
         "1.5",
         "Hamburg Sternschanze",
         "germany",
         "background",
         "urban",
         "15.0"
        ],
        [
         "5849",
         "dehh008",
         "2023-01-28 00:00:00",
         "20.007",
         "67.427",
         "2.5",
         "20.187",
         "12.287",
         "Hamburg Sternschanze",
         "germany",
         "background",
         "urban",
         "15.0"
        ],
        [
         "5850",
         "dehh008",
         "2023-01-29 00:00:00",
         "18.04",
         "40.072",
         "2.5",
         "24.128",
         "18.035",
         "Hamburg Sternschanze",
         "germany",
         "background",
         "urban",
         "15.0"
        ],
        [
         "5851",
         "dehh008",
         "2023-01-30 00:00:00",
         "9.263",
         "78.038",
         "2.5",
         "10.997",
         "4.005",
         "Hamburg Sternschanze",
         "germany",
         "background",
         "urban",
         "15.0"
        ],
        [
         "5852",
         "dehh008",
         "2023-01-31 00:00:00",
         "11.15",
         "78.26",
         "2.5",
         "14.895",
         "2.1",
         "Hamburg Sternschanze",
         "germany",
         "background",
         "urban",
         "15.0"
        ],
        [
         "5853",
         "dehh008",
         "2023-02-01 00:00:00",
         "8.899",
         "75.718",
         "2.5",
         "13.961",
         "2.734",
         "Hamburg Sternschanze",
         "germany",
         "background",
         "urban",
         "15.0"
        ],
        [
         "5854",
         "dehh008",
         "2023-02-02 00:00:00",
         "21.072",
         "80.427",
         "2.5",
         "14.817",
         "3.699",
         "Hamburg Sternschanze",
         "germany",
         "background",
         "urban",
         "15.0"
        ],
        [
         "5855",
         "dehh008",
         "2023-02-03 00:00:00",
         "6.105",
         "84.34",
         "2.5",
         "16.343",
         "5.43",
         "Hamburg Sternschanze",
         "germany",
         "background",
         "urban",
         "15.0"
        ],
        [
         "5856",
         "dehh008",
         "2023-02-04 00:00:00",
         "15.337",
         "69.102",
         "2.663",
         "5.625",
         "2.616",
         "Hamburg Sternschanze",
         "germany",
         "background",
         "urban",
         "15.0"
        ],
        [
         "5857",
         "dehh008",
         "2023-02-05 00:00:00",
         "21.234",
         "48.197",
         "11.096",
         "16.617",
         "12.064",
         "Hamburg Sternschanze",
         "germany",
         "background",
         "urban",
         "15.0"
        ],
        [
         "5858",
         "dehh008",
         "2023-02-06 00:00:00",
         "34.727",
         "35.21",
         "2.96",
         "14.102",
         "7.677",
         "Hamburg Sternschanze",
         "germany",
         "background",
         "urban",
         "15.0"
        ],
        [
         "5859",
         "dehh008",
         "2023-02-07 00:00:00",
         "37.746",
         "13.583",
         "14.099",
         "21.729",
         "17.918",
         "Hamburg Sternschanze",
         "germany",
         "background",
         "urban",
         "15.0"
        ],
        [
         "5860",
         "dehh008",
         "2023-02-08 00:00:00",
         "29.403",
         "34.462",
         "11.874",
         "33.645",
         "27.403",
         "Hamburg Sternschanze",
         "germany",
         "background",
         "urban",
         "15.0"
        ],
        [
         "5861",
         "dehh008",
         "2023-02-09 00:00:00",
         "33.438",
         "32.63",
         "7.281",
         "33.688",
         "25.405",
         "Hamburg Sternschanze",
         "germany",
         "background",
         "urban",
         "15.0"
        ],
        [
         "5862",
         "dehh008",
         "2023-02-10 00:00:00",
         "20.983",
         "44.517",
         "2.5",
         "28.804",
         "22.849",
         "Hamburg Sternschanze",
         "germany",
         "background",
         "urban",
         "15.0"
        ],
        [
         "5863",
         "dehh008",
         "2023-02-11 00:00:00",
         "10.452",
         "64.73",
         "2.5",
         "13.99",
         "11.501",
         "Hamburg Sternschanze",
         "germany",
         "background",
         "urban",
         "15.0"
        ],
        [
         "5864",
         "dehh008",
         "2023-02-12 00:00:00",
         "17.482",
         "68.425",
         "2.5",
         "8.282",
         "7.226",
         "Hamburg Sternschanze",
         "germany",
         "background",
         "urban",
         "15.0"
        ],
        [
         "5865",
         "dehh008",
         "2023-02-13 00:00:00",
         "23.688",
         "53.342",
         "2.5",
         "18.962",
         "15.761",
         "Hamburg Sternschanze",
         "germany",
         "background",
         "urban",
         "15.0"
        ],
        [
         "5866",
         "dehh008",
         "2023-02-14 00:00:00",
         "21.017",
         "55.159",
         "8.164",
         "25.966",
         "21.783",
         "Hamburg Sternschanze",
         "germany",
         "background",
         "urban",
         "15.0"
        ],
        [
         "5867",
         "dehh008",
         "2023-02-15 00:00:00",
         "28.231",
         "23.899",
         "10.031",
         "29.304",
         "24.179",
         "Hamburg Sternschanze",
         "germany",
         "background",
         "urban",
         "15.0"
        ],
        [
         "5868",
         "dehh008",
         "2023-02-16 00:00:00",
         "35.924",
         "20.309",
         "3.376",
         "40.431",
         "35.02",
         "Hamburg Sternschanze",
         "germany",
         "background",
         "urban",
         "15.0"
        ],
        [
         "5869",
         "dehh008",
         "2023-02-17 00:00:00",
         "13.648",
         "82.76",
         "2.5",
         "13.493",
         "10.738",
         "Hamburg Sternschanze",
         "germany",
         "background",
         "urban",
         "15.0"
        ],
        [
         "5870",
         "dehh008",
         "2023-02-18 00:00:00",
         "7.923",
         "84.293",
         "2.5",
         "8.974",
         "5.474",
         "Hamburg Sternschanze",
         "germany",
         "background",
         "urban",
         "15.0"
        ],
        [
         "5871",
         "dehh008",
         "2023-02-19 00:00:00",
         "11.518",
         "83.481",
         "2.5",
         "6.149",
         "3.751",
         "Hamburg Sternschanze",
         "germany",
         "background",
         "urban",
         "15.0"
        ]
       ],
       "shape": {
        "columns": 12,
        "rows": 1082
       }
      },
      "text/html": [
       "<div>\n",
       "<style scoped>\n",
       "    .dataframe tbody tr th:only-of-type {\n",
       "        vertical-align: middle;\n",
       "    }\n",
       "\n",
       "    .dataframe tbody tr th {\n",
       "        vertical-align: top;\n",
       "    }\n",
       "\n",
       "    .dataframe thead th {\n",
       "        text-align: right;\n",
       "    }\n",
       "</style>\n",
       "<table border=\"1\" class=\"dataframe\">\n",
       "  <thead>\n",
       "    <tr style=\"text-align: right;\">\n",
       "      <th></th>\n",
       "      <th>site_id</th>\n",
       "      <th>date</th>\n",
       "      <th>no2</th>\n",
       "      <th>o3</th>\n",
       "      <th>so2</th>\n",
       "      <th>pm10</th>\n",
       "      <th>pm2.5</th>\n",
       "      <th>site</th>\n",
       "      <th>country</th>\n",
       "      <th>site_type</th>\n",
       "      <th>site_area</th>\n",
       "      <th>elevation</th>\n",
       "    </tr>\n",
       "  </thead>\n",
       "  <tbody>\n",
       "    <tr>\n",
       "      <th>5822</th>\n",
       "      <td>dehh008</td>\n",
       "      <td>2023-01-01</td>\n",
       "      <td>11.968</td>\n",
       "      <td>69.289</td>\n",
       "      <td>2.500</td>\n",
       "      <td>17.445</td>\n",
       "      <td>10.374</td>\n",
       "      <td>Hamburg Sternschanze</td>\n",
       "      <td>germany</td>\n",
       "      <td>background</td>\n",
       "      <td>urban</td>\n",
       "      <td>15.0</td>\n",
       "    </tr>\n",
       "    <tr>\n",
       "      <th>5823</th>\n",
       "      <td>dehh008</td>\n",
       "      <td>2023-01-02</td>\n",
       "      <td>14.306</td>\n",
       "      <td>54.668</td>\n",
       "      <td>3.062</td>\n",
       "      <td>9.876</td>\n",
       "      <td>5.144</td>\n",
       "      <td>Hamburg Sternschanze</td>\n",
       "      <td>germany</td>\n",
       "      <td>background</td>\n",
       "      <td>urban</td>\n",
       "      <td>15.0</td>\n",
       "    </tr>\n",
       "    <tr>\n",
       "      <th>5824</th>\n",
       "      <td>dehh008</td>\n",
       "      <td>2023-01-03</td>\n",
       "      <td>25.683</td>\n",
       "      <td>53.505</td>\n",
       "      <td>2.724</td>\n",
       "      <td>14.231</td>\n",
       "      <td>5.78</td>\n",
       "      <td>Hamburg Sternschanze</td>\n",
       "      <td>germany</td>\n",
       "      <td>background</td>\n",
       "      <td>urban</td>\n",
       "      <td>15.0</td>\n",
       "    </tr>\n",
       "    <tr>\n",
       "      <th>5825</th>\n",
       "      <td>dehh008</td>\n",
       "      <td>2023-01-04</td>\n",
       "      <td>14.277</td>\n",
       "      <td>64.338</td>\n",
       "      <td>2.631</td>\n",
       "      <td>6.447</td>\n",
       "      <td>2.436</td>\n",
       "      <td>Hamburg Sternschanze</td>\n",
       "      <td>germany</td>\n",
       "      <td>background</td>\n",
       "      <td>urban</td>\n",
       "      <td>15.0</td>\n",
       "    </tr>\n",
       "    <tr>\n",
       "      <th>5826</th>\n",
       "      <td>dehh008</td>\n",
       "      <td>2023-01-05</td>\n",
       "      <td>19.389</td>\n",
       "      <td>67.546</td>\n",
       "      <td>2.906</td>\n",
       "      <td>9.848</td>\n",
       "      <td>3.323</td>\n",
       "      <td>Hamburg Sternschanze</td>\n",
       "      <td>germany</td>\n",
       "      <td>background</td>\n",
       "      <td>urban</td>\n",
       "      <td>15.0</td>\n",
       "    </tr>\n",
       "    <tr>\n",
       "      <th>...</th>\n",
       "      <td>...</td>\n",
       "      <td>...</td>\n",
       "      <td>...</td>\n",
       "      <td>...</td>\n",
       "      <td>...</td>\n",
       "      <td>...</td>\n",
       "      <td>...</td>\n",
       "      <td>...</td>\n",
       "      <td>...</td>\n",
       "      <td>...</td>\n",
       "      <td>...</td>\n",
       "      <td>...</td>\n",
       "    </tr>\n",
       "    <tr>\n",
       "      <th>6899</th>\n",
       "      <td>dehh068</td>\n",
       "      <td>2023-12-27</td>\n",
       "      <td>37.279</td>\n",
       "      <td>NaN</td>\n",
       "      <td>NaN</td>\n",
       "      <td>14.516</td>\n",
       "      <td>7.171</td>\n",
       "      <td>Hamburg Habichtstraße</td>\n",
       "      <td>germany</td>\n",
       "      <td>traffic</td>\n",
       "      <td>urban</td>\n",
       "      <td>12.0</td>\n",
       "    </tr>\n",
       "    <tr>\n",
       "      <th>6900</th>\n",
       "      <td>dehh068</td>\n",
       "      <td>2023-12-28</td>\n",
       "      <td>22.617</td>\n",
       "      <td>NaN</td>\n",
       "      <td>NaN</td>\n",
       "      <td>13.205</td>\n",
       "      <td>6.815</td>\n",
       "      <td>Hamburg Habichtstraße</td>\n",
       "      <td>germany</td>\n",
       "      <td>traffic</td>\n",
       "      <td>urban</td>\n",
       "      <td>12.0</td>\n",
       "    </tr>\n",
       "    <tr>\n",
       "      <th>6901</th>\n",
       "      <td>dehh068</td>\n",
       "      <td>2023-12-29</td>\n",
       "      <td>24.463</td>\n",
       "      <td>NaN</td>\n",
       "      <td>NaN</td>\n",
       "      <td>10.862</td>\n",
       "      <td>5.613</td>\n",
       "      <td>Hamburg Habichtstraße</td>\n",
       "      <td>germany</td>\n",
       "      <td>traffic</td>\n",
       "      <td>urban</td>\n",
       "      <td>12.0</td>\n",
       "    </tr>\n",
       "    <tr>\n",
       "      <th>6902</th>\n",
       "      <td>dehh068</td>\n",
       "      <td>2023-12-30</td>\n",
       "      <td>26.185</td>\n",
       "      <td>NaN</td>\n",
       "      <td>NaN</td>\n",
       "      <td>11.887</td>\n",
       "      <td>6.383</td>\n",
       "      <td>Hamburg Habichtstraße</td>\n",
       "      <td>germany</td>\n",
       "      <td>traffic</td>\n",
       "      <td>urban</td>\n",
       "      <td>12.0</td>\n",
       "    </tr>\n",
       "    <tr>\n",
       "      <th>6903</th>\n",
       "      <td>dehh068</td>\n",
       "      <td>2023-12-31</td>\n",
       "      <td>46.509</td>\n",
       "      <td>NaN</td>\n",
       "      <td>NaN</td>\n",
       "      <td>362.430</td>\n",
       "      <td>303.494</td>\n",
       "      <td>Hamburg Habichtstraße</td>\n",
       "      <td>germany</td>\n",
       "      <td>traffic</td>\n",
       "      <td>urban</td>\n",
       "      <td>12.0</td>\n",
       "    </tr>\n",
       "  </tbody>\n",
       "</table>\n",
       "<p>1082 rows × 12 columns</p>\n",
       "</div>"
      ],
      "text/plain": [
       "      site_id       date     no2      o3    so2     pm10    pm2.5  \\\n",
       "5822  dehh008 2023-01-01  11.968  69.289  2.500   17.445   10.374   \n",
       "5823  dehh008 2023-01-02  14.306  54.668  3.062    9.876    5.144   \n",
       "5824  dehh008 2023-01-03  25.683  53.505  2.724   14.231     5.78   \n",
       "5825  dehh008 2023-01-04  14.277  64.338  2.631    6.447    2.436   \n",
       "5826  dehh008 2023-01-05  19.389  67.546  2.906    9.848    3.323   \n",
       "...       ...        ...     ...     ...    ...      ...      ...   \n",
       "6899  dehh068 2023-12-27  37.279     NaN    NaN   14.516    7.171   \n",
       "6900  dehh068 2023-12-28  22.617     NaN    NaN   13.205    6.815   \n",
       "6901  dehh068 2023-12-29  24.463     NaN    NaN   10.862    5.613   \n",
       "6902  dehh068 2023-12-30  26.185     NaN    NaN   11.887    6.383   \n",
       "6903  dehh068 2023-12-31  46.509     NaN    NaN  362.430  303.494   \n",
       "\n",
       "                       site  country   site_type site_area  elevation  \n",
       "5822   Hamburg Sternschanze  germany  background     urban       15.0  \n",
       "5823   Hamburg Sternschanze  germany  background     urban       15.0  \n",
       "5824   Hamburg Sternschanze  germany  background     urban       15.0  \n",
       "5825   Hamburg Sternschanze  germany  background     urban       15.0  \n",
       "5826   Hamburg Sternschanze  germany  background     urban       15.0  \n",
       "...                     ...      ...         ...       ...        ...  \n",
       "6899  Hamburg Habichtstraße  germany     traffic     urban       12.0  \n",
       "6900  Hamburg Habichtstraße  germany     traffic     urban       12.0  \n",
       "6901  Hamburg Habichtstraße  germany     traffic     urban       12.0  \n",
       "6902  Hamburg Habichtstraße  germany     traffic     urban       12.0  \n",
       "6903  Hamburg Habichtstraße  germany     traffic     urban       12.0  \n",
       "\n",
       "[1082 rows x 12 columns]"
      ]
     },
     "execution_count": 16,
     "metadata": {},
     "output_type": "execute_result"
    }
   ],
   "source": [
    "print(pollutants_df.head())\n",
    "number_hamburg_sites = df[df.site.str.contains(\"Hamburg\",case=False, na=False)]\n",
    "number_hamburg_sites"
   ]
  },
  {
   "cell_type": "code",
   "execution_count": 17,
   "metadata": {},
   "outputs": [
    {
     "data": {
      "text/plain": [
       "pm10    15.565388\n",
       "no2     24.648383\n",
       "dtype: float64"
      ]
     },
     "execution_count": 17,
     "metadata": {},
     "output_type": "execute_result"
    }
   ],
   "source": [
    "number_hamburg_sites[['pm10','pm2.5','no2']].mean(numeric_only=True)"
   ]
  }
 ],
 "metadata": {
  "kernelspec": {
   "display_name": "Python 3",
   "language": "python",
   "name": "python3"
  },
  "language_info": {
   "codemirror_mode": {
    "name": "ipython",
    "version": 3
   },
   "file_extension": ".py",
   "mimetype": "text/x-python",
   "name": "python",
   "nbconvert_exporter": "python",
   "pygments_lexer": "ipython3",
   "version": "3.13.2"
  }
 },
 "nbformat": 4,
 "nbformat_minor": 2
}
